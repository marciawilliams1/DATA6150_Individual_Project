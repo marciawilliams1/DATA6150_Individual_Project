{
 "cells": [
  {
   "cell_type": "code",
   "execution_count": null,
   "metadata": {},
   "outputs": [],
   "source": [
    "import pandas as pd \n",
    "\n",
    "data = pd.read_csv(\"StockX Sneaker Dataset.csv\") \n",
    "data"
   ]
  },
  {
   "cell_type": "code",
   "execution_count": 4,
   "metadata": {},
   "outputs": [
    {
     "name": "stdout",
     "output_type": "stream",
     "text": [
      "  Retail_Price Sale_Price   Brand   Buyer_Region\n",
      "0         $200       $250    Nike  North America\n",
      "1         $150       $160  Adidas         Europe\n",
      "2         $180       None    Nike           Asia\n",
      "3         None       $190    Puma           None\n"
     ]
    }
   ],
   "source": [
    "import pandas as pd\n",
    "\n",
    "# Sample data for stockx DataFrame\n",
    "data = {\n",
    "    'Retail_Price': ['$200', '$150', '$180', None],\n",
    "    'Sale_Price': ['$250', '$160', None, '$190'],\n",
    "    'Brand': ['Nike', 'Adidas', 'Nike', 'Puma'],\n",
    "    'Buyer_Region': ['North America', 'Europe', 'Asia', None]\n",
    "}\n",
    "\n",
    "# Create the DataFrame\n",
    "stockx = pd.DataFrame(data)\n",
    "\n",
    "# Display the DataFrame\n",
    "print(stockx)\n"
   ]
  },
  {
   "cell_type": "code",
   "execution_count": 5,
   "metadata": {},
   "outputs": [
    {
     "name": "stdout",
     "output_type": "stream",
     "text": [
      "Retail_Price    1\n",
      "Sale_Price      1\n",
      "Brand           0\n",
      "Buyer_Region    1\n",
      "dtype: int64\n"
     ]
    }
   ],
   "source": [
    "import pandas as pd\n",
    "import numpy as np\n",
    "\n",
    "# Assuming stockx is your DataFrame\n",
    "\n",
    "# Convert Retail.Price and Sale.Price to numeric by removing non-numeric characters\n",
    "stockx['Retail_Price'] = pd.to_numeric(stockx['Retail_Price'].str.replace(r'[^\\d.]', '', regex=True))\n",
    "stockx['Sale_Price'] = pd.to_numeric(stockx['Sale_Price'].str.replace(r'[^\\d.]', '', regex=True))\n",
    "\n",
    "# Convert Brand and Buyer.Region to categorical\n",
    "stockx['Brand'] = stockx['Brand'].astype('category')\n",
    "stockx['Buyer_Region'] = stockx['Buyer_Region'].astype('category')\n",
    "\n",
    "# Check for missing values\n",
    "missing_values = stockx.isnull().sum()\n",
    "\n",
    "print(missing_values)\n"
   ]
  },
  {
   "cell_type": "code",
   "execution_count": 6,
   "metadata": {},
   "outputs": [
    {
     "name": "stdout",
     "output_type": "stream",
     "text": [
      "Missing values per column:\n",
      "Retail_Price    1\n",
      "Sale_Price      1\n",
      "Brand           0\n",
      "Buyer_Region    1\n",
      "Order_Date      0\n",
      "Sneaker_Name    0\n",
      "Release_Date    0\n",
      "Shoe_Size       0\n",
      "dtype: int64\n",
      "\n",
      "Summary of stockx:\n",
      "        Retail_Price  Sale_Price Brand   Buyer_Region  Order_Date  \\\n",
      "count       2.000000     2.00000     2              2           2   \n",
      "unique           NaN         NaN     2              2           2   \n",
      "top              NaN         NaN  Nike  North America  2023-01-02   \n",
      "freq             NaN         NaN     1              1           1   \n",
      "mean      175.000000   205.00000   NaN            NaN         NaN   \n",
      "std        35.355339    63.63961   NaN            NaN         NaN   \n",
      "min       150.000000   160.00000   NaN            NaN         NaN   \n",
      "25%       162.500000   182.50000   NaN            NaN         NaN   \n",
      "50%       175.000000   205.00000   NaN            NaN         NaN   \n",
      "75%       187.500000   227.50000   NaN            NaN         NaN   \n",
      "max       200.000000   250.00000   NaN            NaN         NaN   \n",
      "\n",
      "       Sneaker_Name Release_Date  Shoe_Size  \n",
      "count             2            2   2.000000  \n",
      "unique            2            2        NaN  \n",
      "top       Superstar   2022-12-01        NaN  \n",
      "freq              1            1        NaN  \n",
      "mean            NaN          NaN   9.500000  \n",
      "std             NaN          NaN   0.707107  \n",
      "min             NaN          NaN   9.000000  \n",
      "25%             NaN          NaN   9.250000  \n",
      "50%             NaN          NaN   9.500000  \n",
      "75%             NaN          NaN   9.750000  \n",
      "max             NaN          NaN  10.000000  \n"
     ]
    }
   ],
   "source": [
    "import pandas as pd\n",
    "\n",
    "# Sample stockx DataFrame (replace this with your actual data)\n",
    "data = {\n",
    "    'Retail_Price': ['$200', '$150', '$180', None],\n",
    "    'Sale_Price': ['$250', '$160', None, '$190'],\n",
    "    'Brand': ['Nike', 'Adidas', 'Nike', 'Puma'],\n",
    "    'Buyer_Region': ['North America', 'Europe', 'Asia', None],\n",
    "    'Order_Date': ['2023-01-01', '2023-01-02', '2023-01-03', '2023-01-04'],\n",
    "    'Sneaker_Name': ['Air Max', 'Superstar', 'Air Max', 'Future Rider'],\n",
    "    'Release_Date': ['2022-12-01', '2022-11-15', '2022-12-01', '2022-11-20'],\n",
    "    'Shoe_Size': [9, 10, 9.5, 8]\n",
    "}\n",
    "\n",
    "stockx = pd.DataFrame(data)\n",
    "\n",
    "# Cleaning and transforming data\n",
    "stockx['Retail_Price'] = pd.to_numeric(stockx['Retail_Price'].str.replace(r'[^\\d.]', '', regex=True))\n",
    "stockx['Sale_Price'] = pd.to_numeric(stockx['Sale_Price'].str.replace(r'[^\\d.]', '', regex=True))\n",
    "stockx['Brand'] = stockx['Brand'].astype('category')\n",
    "stockx['Buyer_Region'] = stockx['Buyer_Region'].astype('category')\n",
    "\n",
    "# Check for missing values\n",
    "missing_values = stockx.isnull().sum()\n",
    "print(\"Missing values per column:\")\n",
    "print(missing_values)\n",
    "\n",
    "# Remove rows with NA values\n",
    "stockx.dropna(inplace=True)\n",
    "\n",
    "# Summary of the stockx DataFrame\n",
    "summary = stockx.describe(include='all')\n",
    "print(\"\\nSummary of stockx:\")\n",
    "print(summary)\n"
   ]
  },
  {
   "cell_type": "code",
   "execution_count": 7,
   "metadata": {},
   "outputs": [
    {
     "name": "stdout",
     "output_type": "stream",
     "text": [
      "Feature Importances:\n",
      "         Feature  Importance\n",
      "0          Brand         0.0\n",
      "1      Shoe_Size         0.0\n",
      "2   Buyer_Region         0.0\n",
      "3      Order_Day         0.0\n",
      "4    Order_Month         0.0\n",
      "5     Order_Year         0.0\n",
      "6    Release_Day         0.0\n",
      "7  Release_Month         0.0\n",
      "8   Release_Year         0.0\n",
      "9     Sale_Price         0.0\n",
      "\n",
      "Mean Squared Error on Test Set: 1600.00\n"
     ]
    }
   ],
   "source": [
    "import pandas as pd\n",
    "from sklearn.ensemble import GradientBoostingRegressor\n",
    "from sklearn.model_selection import train_test_split\n",
    "from sklearn.metrics import mean_squared_error\n",
    "import numpy as np\n",
    "\n",
    "# Sample stockx DataFrame (replace with your actual data)\n",
    "data = {\n",
    "    'Order_Date': ['01/01/23', '02/15/23', '03/10/23', '04/20/23'],\n",
    "    'Release_Date': ['12/01/22', '11/15/22', '12/01/22', '11/20/22'],\n",
    "    'Retail_Price': [200, 150, 180, 190],\n",
    "    'Sale_Price': [250, 160, 200, 210],\n",
    "    'Brand': ['Nike', 'Adidas', 'Nike', 'Puma'],\n",
    "    'Shoe_Size': [9, 10, 9.5, 8],\n",
    "    'Buyer_Region': ['North America', 'Europe', 'Asia', 'North America']\n",
    "}\n",
    "\n",
    "# Create DataFrame\n",
    "stockx = pd.DataFrame(data)\n",
    "\n",
    "# Convert dates to datetime objects\n",
    "stockx['Order_Date'] = pd.to_datetime(stockx['Order_Date'], format='%m/%d/%y')\n",
    "stockx['Release_Date'] = pd.to_datetime(stockx['Release_Date'], format='%m/%d/%y')\n",
    "\n",
    "# Extract date components\n",
    "stockx['Order_Day'] = stockx['Order_Date'].dt.day\n",
    "stockx['Order_Month'] = stockx['Order_Date'].dt.month\n",
    "stockx['Order_Year'] = stockx['Order_Date'].dt.year\n",
    "stockx['Release_Day'] = stockx['Release_Date'].dt.day\n",
    "stockx['Release_Month'] = stockx['Release_Date'].dt.month\n",
    "stockx['Release_Year'] = stockx['Release_Date'].dt.year\n",
    "\n",
    "# Encode categorical variables\n",
    "stockx['Brand'] = stockx['Brand'].astype('category').cat.codes\n",
    "stockx['Buyer_Region'] = stockx['Buyer_Region'].astype('category').cat.codes\n",
    "\n",
    "# Features and target variable\n",
    "features = ['Brand', 'Shoe_Size', 'Buyer_Region', 'Order_Day', 'Order_Month', \n",
    "            'Order_Year', 'Release_Day', 'Release_Month', 'Release_Year', 'Sale_Price']\n",
    "target = 'Retail_Price'\n",
    "\n",
    "X = stockx[features]\n",
    "y = stockx[target]\n",
    "\n",
    "# Split data into training and testing sets\n",
    "X_train, X_test, y_train, y_test = train_test_split(X, y, test_size=0.2, random_state=42)\n",
    "\n",
    "# Gradient Boosting Model\n",
    "gbm = GradientBoostingRegressor(n_estimators=100, max_depth=3, learning_rate=0.1, min_samples_leaf=10, random_state=42)\n",
    "gbm.fit(X_train, y_train)\n",
    "\n",
    "# Feature importance\n",
    "importances = gbm.feature_importances_\n",
    "feature_importance = pd.DataFrame({'Feature': features, 'Importance': importances}).sort_values(by='Importance', ascending=False)\n",
    "\n",
    "# Model performance\n",
    "y_pred = gbm.predict(X_test)\n",
    "mse = mean_squared_error(y_test, y_pred)\n",
    "\n",
    "# Output\n",
    "print(\"Feature Importances:\")\n",
    "print(feature_importance)\n",
    "print(f\"\\nMean Squared Error on Test Set: {mse:.2f}\")\n"
   ]
  },
  {
   "cell_type": "code",
   "execution_count": 10,
   "metadata": {},
   "outputs": [
    {
     "data": {
      "image/png": "[encoded data removed]",
      "text/plain": [
       "<Figure size 720x432 with 1 Axes>"
      ]
     },
     "metadata": {},
     "output_type": "display_data"
    }
   ],
   "source": [
    "import pandas as pd\n",
    "import matplotlib.pyplot as plt\n",
    "import seaborn as sns\n",
    "\n",
    "# Feature importance data\n",
    "data = {'Feature': ['Brand', 'Release.Month', 'Release.Day', 'Release.Year', 'Sale.Price', \n",
    "                'Order.Month', 'Buyer.Region', 'Shoe.Size', 'Order.Year', 'Order.Day'],\n",
    "    'Importance': [47.375624640, 26.029492697, 24.679586008, 1.281788844, \n",
    "                   0.546722548, 0.043969058, 0.029697350, 0.008108442, \n",
    "                   0.005010413, 0.000000000]}\n",
    "\n",
    "# Create DataFrame\n",
    "feature_importance = pd.DataFrame(data)\n",
    "\n",
    "# Sort data by importance\n",
    "feature_importance = feature_importance.sort_values(by='Importance', ascending=False)\n",
    "\n",
    "# Set the style\n",
    "sns.set_style(\"whitegrid\")\n",
    "\n",
    "# Plot feature importance\n",
    "plt.figure(figsize=(10, 6))\n",
    "sns.barplot(x='Importance', y='Feature', data=feature_importance, palette='viridis')\n",
    "plt.title('Feature Importance', fontsize=16)\n",
    "plt.xlabel('Relative Importance', fontsize=12)\n",
    "plt.ylabel('Feature', fontsize=12)\n",
    "plt.tight_layout()\n",
    "plt.show()"
   ]
  },
  {
   "cell_type": "code",
   "execution_count": null,
   "metadata": {},
   "outputs": [],
   "source": []
  },
  {
   "cell_type": "code",
   "execution_count": null,
   "metadata": {},
   "outputs": [],
   "source": []
  }
 ],
 "metadata": {
  "kernelspec": {
   "display_name": "Python 3",
   "language": "python",
   "name": "python3"
  },
  "language_info": {
   "codemirror_mode": {
    "name": "ipython",
    "version": 3
   },
   "file_extension": ".py",
   "mimetype": "text/x-python",
   "name": "python",
   "nbconvert_exporter": "python",
   "pygments_lexer": "ipython3",
   "version": "3.6.10"
  }
 },
 "nbformat": 4,
 "nbformat_minor": 2
}
